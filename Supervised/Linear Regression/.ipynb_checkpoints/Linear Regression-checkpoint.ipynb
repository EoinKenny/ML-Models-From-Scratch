{
 "cells": [
  {
   "cell_type": "markdown",
   "metadata": {
    "collapsed": true
   },
   "source": [
    "# Linear Regression OLS"
   ]
  },
  {
   "cell_type": "code",
   "execution_count": 1,
   "metadata": {
    "collapsed": false
   },
   "outputs": [
    {
     "name": "stderr",
     "output_type": "stream",
     "text": [
      "C:\\Program Files\\Anaconda3\\lib\\site-packages\\sklearn\\cross_validation.py:44: DeprecationWarning: This module was deprecated in version 0.18 in favor of the model_selection module into which all the refactored classes and functions are moved. Also note that the interface of the new CV iterators are different from that of this module. This module will be removed in 0.20.\n",
      "  \"This module will be removed in 0.20.\", DeprecationWarning)\n"
     ]
    }
   ],
   "source": [
    "import math\n",
    "import pandas as pd\n",
    "import numpy as np\n",
    "import seaborn as sns\n",
    "import matplotlib.pyplot as plt\n",
    "%matplotlib inline\n",
    "\n",
    "from sklearn.cross_validation import train_test_split\n",
    "from sklearn.metrics import confusion_matrix "
   ]
  },
  {
   "cell_type": "code",
   "execution_count": 2,
   "metadata": {
    "collapsed": true
   },
   "outputs": [],
   "source": [
    "class LinearRegressionOLS:\n",
    "    \"\"\"This performs Linear regression OLS\n",
    "    \n",
    "    This will only work for a single variable, it is not sutiable for multi-variate regression\"\"\"\n",
    "    \n",
    "    def fit(self, x_train, y_train):\n",
    "        self.__y_train = y_train\n",
    "        self.__x_train = x_train\n",
    "        \n",
    "        # Get mean, variance & std values\n",
    "        self.__mean_x = self.__mean(self.__x_train)\n",
    "        self.__mean_y = self.__mean(self.__y_train)\n",
    "        \n",
    "        self.__variance_x = self.__variance(self.__x_train)\n",
    "        self.__variance_y = self.__variance(self.__y_train)\n",
    "        \n",
    "        self.__std_x = self.__std('x')\n",
    "        self.__std_y = self.__std('y')\n",
    "        \n",
    "        print(\"mean:\", self.__mean_x, \"var:\", self.__variance_x, \"std:\", self.__std_x)\n",
    "        \n",
    "        # Get Covariance\n",
    "        self.covariance = self.__get_covariance()\n",
    "        # Get B1/B0\n",
    "        self.B1 = self.covariance / self.__variance_x\n",
    "        self.B0 = self.__mean_y - self.B1 * self.__mean_x\n",
    "        self.CORR = self.covariance / (self.__std_x * self.__std_y) \n",
    "        self.r_squared = self.CORR**2\n",
    "        \n",
    "    def predict(self, x_test):\n",
    "        predictions = list()\n",
    "        for item in x_test:\n",
    "            predictions.append(self.B0 + self.B1 * item)\n",
    "        return predictions\n",
    "    \n",
    "    def __mean(self, values):\n",
    "        return sum(values)/len(values)\n",
    "    \n",
    "    def __variance(self, values):    \n",
    "        return (sum((x - self.__mean_x)**2 for x in values)) / len(values)\n",
    "    \n",
    "    def __std(self, value):\n",
    "        if value == \"x\": \n",
    "            return math.sqrt(self.__variance_x)\n",
    "        else:\n",
    "            return math.sqrt(self.__variance_y)\n",
    "        \n",
    "    def __get_covariance(self):\n",
    "        covar = 0\n",
    "        for i in range(len(self.__x_train)):\n",
    "            covar += ((self.__x_train[i] - self.__mean_x) * (self.__y_train[i] - self.__mean_y))\n",
    "        return covar/len(self.__x_train)\n",
    "    \n",
    "    def draw(self):\n",
    "        # Find two random points on the line\n",
    "        point_1 = classifier.B0 + (0 * classifier.B1)\n",
    "        point_2 = classifier.B0 + (2 * classifier.B1)\n",
    "        sns.set_style(\"darkgrid\")\n",
    "        plt.plot([0,2], [point_1, point_2], 'r-')\n",
    "        # Draw the data points\n",
    "        plt.scatter(list(df.x), list(df.y))\n",
    "        plt.show()"
   ]
  },
  {
   "cell_type": "code",
   "execution_count": 3,
   "metadata": {
    "collapsed": false
   },
   "outputs": [],
   "source": [
    "df = pd.read_csv(\"hubble.csv\")"
   ]
  },
  {
   "cell_type": "code",
   "execution_count": 4,
   "metadata": {
    "collapsed": true
   },
   "outputs": [],
   "source": [
    "classifier = LinearRegressionOLS()"
   ]
  },
  {
   "cell_type": "code",
   "execution_count": 5,
   "metadata": {
    "collapsed": true
   },
   "outputs": [],
   "source": [
    "X_train, X_test, y_train, y_test = train_test_split(list(df.x), list(df.y), test_size = .2)"
   ]
  },
  {
   "cell_type": "code",
   "execution_count": 6,
   "metadata": {
    "collapsed": false
   },
   "outputs": [
    {
     "name": "stdout",
     "output_type": "stream",
     "text": [
      "mean: 0.911375 var: 0.399303734375 std: 0.6319048459815765\n"
     ]
    }
   ],
   "source": [
    "classifier.fit(df.x, df.y)"
   ]
  },
  {
   "cell_type": "code",
   "execution_count": 7,
   "metadata": {
    "collapsed": false
   },
   "outputs": [
    {
     "data": {
      "text/plain": [
       "454.15844092262836"
      ]
     },
     "execution_count": 7,
     "metadata": {},
     "output_type": "execute_result"
    }
   ],
   "source": [
    "classifier.B1"
   ]
  },
  {
   "cell_type": "code",
   "execution_count": 8,
   "metadata": {
    "collapsed": false
   },
   "outputs": [
    {
     "data": {
      "image/png": "[encoded data removed]",
      "text/plain": [
       "<matplotlib.figure.Figure at 0xb4ec780>"
      ]
     },
     "metadata": {},
     "output_type": "display_data"
    }
   ],
   "source": [
    "classifier.draw()"
   ]
  },
  {
   "cell_type": "markdown",
   "metadata": {},
   "source": [
    "## Evaluate the model"
   ]
  },
  {
   "cell_type": "code",
   "execution_count": 9,
   "metadata": {
    "collapsed": false
   },
   "outputs": [],
   "source": [
    "predictions = classifier.predict(X_test)"
   ]
  },
  {
   "cell_type": "code",
   "execution_count": 10,
   "metadata": {
    "collapsed": false
   },
   "outputs": [],
   "source": [
    "# What is the mean absolute error?\n",
    "error = 0\n",
    "for i in range(len(predictions)):\n",
    "    error += abs(predictions[i] - y_test[i])"
   ]
  },
  {
   "cell_type": "code",
   "execution_count": 11,
   "metadata": {
    "collapsed": false
   },
   "outputs": [
    {
     "data": {
      "text/plain": [
       "746.81832388009434"
      ]
     },
     "execution_count": 11,
     "metadata": {},
     "output_type": "execute_result"
    }
   ],
   "source": [
    "error"
   ]
  }
 ],
 "metadata": {
  "anaconda-cloud": {},
  "kernelspec": {
   "display_name": "Python [conda root]",
   "language": "python",
   "name": "conda-root-py"
  },
  "language_info": {
   "codemirror_mode": {
    "name": "ipython",
    "version": 3
   },
   "file_extension": ".py",
   "mimetype": "text/x-python",
   "name": "python",
   "nbconvert_exporter": "python",
   "pygments_lexer": "ipython3",
   "version": "3.5.2"
  }
 },
 "nbformat": 4,
 "nbformat_minor": 1
}
