{
 "cells": [
  {
   "cell_type": "markdown",
   "metadata": {},
   "source": [
    "# KNN From Scratch"
   ]
  },
  {
   "cell_type": "code",
   "execution_count": 1,
   "metadata": {
    "collapsed": false
   },
   "outputs": [
    {
     "name": "stderr",
     "output_type": "stream",
     "text": [
      "C:\\Program Files\\Anaconda3\\lib\\site-packages\\sklearn\\cross_validation.py:44: DeprecationWarning: This module was deprecated in version 0.18 in favor of the model_selection module into which all the refactored classes and functions are moved. Also note that the interface of the new CV iterators are different from that of this module. This module will be removed in 0.20.\n",
      "  \"This module will be removed in 0.20.\", DeprecationWarning)\n"
     ]
    }
   ],
   "source": [
    "import random\n",
    "from sklearn import datasets  # for sample dataset\n",
    "from math import sqrt  # for euclidean distance func\n",
    "from sklearn.cross_validation import train_test_split\n",
    "from sklearn.metrics import confusion_matrix"
   ]
  },
  {
   "cell_type": "code",
   "execution_count": 2,
   "metadata": {
    "collapsed": false
   },
   "outputs": [],
   "source": [
    "class KNN_Classifier:\n",
    "    \n",
    "    def fit(self, X_train, y_train, k=3):\n",
    "        self.X_train = X_train\n",
    "        self.y_train = y_train\n",
    "        self.k = k\n",
    "    \n",
    "    def predict(self, X_test):\n",
    "        predictions = []\n",
    "        for row in X_test:\n",
    "            # Get the k nearest neighbours\n",
    "            labels = self.__get_nearest_neighbours(row)\n",
    "            # Select appropriate label\n",
    "            prediction = self.__get_label(labels)\n",
    "            predictions.append(prediction)\n",
    "        return predictions\n",
    "    \n",
    "    def __get_nearest_neighbours(self, row):\n",
    "        distances = list()\n",
    "        # enurmerate and get all distances\n",
    "        for i in range(len(self.X_train)):\n",
    "            distances.append([self.__euc(X_train[i], row), self.y_train[i]])\n",
    "        distances.sort()\n",
    "        return [distances[0][1], distances[1][1], distances[2][1]]\n",
    "    \n",
    "    def __get_label(self, labels):\n",
    "        count = dict()\n",
    "        for item in labels:\n",
    "            try:\n",
    "                count[item] = 1\n",
    "            except:\n",
    "                count[item] += 1\n",
    "                \n",
    "        v=list(count.values())\n",
    "        k=list(count.keys())\n",
    "        return k[v.index(max(v))]\n",
    "    \n",
    "    def __euc(self, x, y):\n",
    "        if len(x) != len(y):\n",
    "            return False\n",
    "\n",
    "        total_dist = 0\n",
    "        for i in range(len(x)):\n",
    "            total_dist += (x[i] - y[i])**2\n",
    "            \n",
    "        return sqrt(total_dist)"
   ]
  },
  {
   "cell_type": "code",
   "execution_count": 3,
   "metadata": {
    "collapsed": true
   },
   "outputs": [],
   "source": [
    "iris = datasets.load_iris()"
   ]
  },
  {
   "cell_type": "code",
   "execution_count": 4,
   "metadata": {
    "collapsed": false
   },
   "outputs": [],
   "source": [
    "X = iris.data\n",
    "y = iris.target"
   ]
  },
  {
   "cell_type": "code",
   "execution_count": 5,
   "metadata": {
    "collapsed": false
   },
   "outputs": [],
   "source": [
    "X_train, X_test, y_train, y_test = train_test_split(X, y, test_size = .5)"
   ]
  },
  {
   "cell_type": "code",
   "execution_count": 6,
   "metadata": {
    "collapsed": false
   },
   "outputs": [],
   "source": [
    "# Make classifier with Iris data and KNN = 1\n",
    "classifer = KNN_Classifier()"
   ]
  },
  {
   "cell_type": "code",
   "execution_count": 7,
   "metadata": {
    "collapsed": true
   },
   "outputs": [],
   "source": [
    "classifer.fit(X_train, y_train, 1)"
   ]
  },
  {
   "cell_type": "code",
   "execution_count": 8,
   "metadata": {
    "collapsed": false
   },
   "outputs": [],
   "source": [
    "predictions = classifer.predict(X_test)"
   ]
  },
  {
   "cell_type": "code",
   "execution_count": 9,
   "metadata": {
    "collapsed": false
   },
   "outputs": [
    {
     "data": {
      "text/plain": [
       "array([[25,  0,  0],\n",
       "       [ 0, 28,  1],\n",
       "       [ 0,  6, 15]])"
      ]
     },
     "execution_count": 9,
     "metadata": {},
     "output_type": "execute_result"
    }
   ],
   "source": [
    "# Labels are 0, 1, 2\n",
    "confusion_matrix(y_test, predictions)"
   ]
  }
 ],
 "metadata": {
  "anaconda-cloud": {},
  "kernelspec": {
   "display_name": "Python [conda root]",
   "language": "python",
   "name": "conda-root-py"
  },
  "language_info": {
   "codemirror_mode": {
    "name": "ipython",
    "version": 3
   },
   "file_extension": ".py",
   "mimetype": "text/x-python",
   "name": "python",
   "nbconvert_exporter": "python",
   "pygments_lexer": "ipython3",
   "version": "3.5.2"
  }
 },
 "nbformat": 4,
 "nbformat_minor": 1
}
