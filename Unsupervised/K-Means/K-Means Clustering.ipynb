{
 "cells": [
  {
   "cell_type": "markdown",
   "metadata": {},
   "source": [
    "# K-Means Clustering "
   ]
  },
  {
   "cell_type": "code",
   "execution_count": 1,
   "metadata": {
    "collapsed": true
   },
   "outputs": [],
   "source": [
    "import numpy as np\n",
    "import matplotlib.pyplot as plt\n",
    "from scipy.spatial.distance import euclidean\n",
    "\n",
    "from random import randint\n",
    "%matplotlib inline"
   ]
  },
  {
   "cell_type": "markdown",
   "metadata": {},
   "source": [
    "## Make a Sample Dataset"
   ]
  },
  {
   "cell_type": "code",
   "execution_count": 27,
   "metadata": {
    "collapsed": false
   },
   "outputs": [],
   "source": [
    "x = np.random.uniform(low=-100, high=100, size=(50,))\n",
    "y = np.random.uniform(low=-100, high=100, size=(50,))"
   ]
  },
  {
   "cell_type": "code",
   "execution_count": 28,
   "metadata": {
    "collapsed": false
   },
   "outputs": [],
   "source": [
    "data = [[i, j] for i, j in zip(x,y)]"
   ]
  },
  {
   "cell_type": "code",
   "execution_count": 29,
   "metadata": {
    "collapsed": false
   },
   "outputs": [
    {
     "data": {
      "text/plain": [
       "<matplotlib.collections.PathCollection at 0x81efa90>"
      ]
     },
     "execution_count": 29,
     "metadata": {},
     "output_type": "execute_result"
    },
    {
     "data": {
      "image/png": "[encoded data removed]",
      "text/plain": [
       "<matplotlib.figure.Figure at 0x9470a20>"
      ]
     },
     "metadata": {},
     "output_type": "display_data"
    }
   ],
   "source": [
    "plt.scatter(x, y)"
   ]
  },
  {
   "cell_type": "code",
   "execution_count": 30,
   "metadata": {
    "collapsed": false
   },
   "outputs": [],
   "source": [
    "class KMeans:\n",
    "        \n",
    "    def run(self, data, k=1):\n",
    "        self.data = data\n",
    "        self.k = k\n",
    "        self.data = [row + [None] for row in self.data]  # Add labels to data\n",
    "        \n",
    "        local_max = False\n",
    "        \n",
    "        # Step 1: Get initial centroids points (random datapoints)\n",
    "        centroids = self.__get_first_centroids()\n",
    "        \n",
    "        while not local_max:\n",
    "            # Step 2: Assign datapoints to nearest centroids\n",
    "            self.__assign_labels(centroids)\n",
    "            # Step 3: Get new centers\n",
    "            new_centroids = self.__get_centroids()\n",
    "            \n",
    "            if centroids == new_centroids:\n",
    "                local_max = True\n",
    "            else:\n",
    "                # Repeat steps 2-3...\n",
    "                centroids = new_centroids\n",
    "                            \n",
    "    def show(self):\n",
    "        \n",
    "        colours = [\"r\", \"y\", \"b\", \"g\"]\n",
    "        \n",
    "        for i in range(self.k):\n",
    "            cluster = [row for row in self.data if row[-1] == i]\n",
    "            x = [row[0] for row in cluster]\n",
    "            y = [row[1] for row in cluster]\n",
    "            plt.scatter(x, y, c=colours[i])\n",
    "            \n",
    "    def __get_first_centroids(self):\n",
    "        random_centroids = set()\n",
    "        for i in range(self.k):\n",
    "            centroid = randint(0, len(self.data))\n",
    "            random_centroids.add(centroid)\n",
    "        # Check to make sure no duplicate centroids were picked randomly\n",
    "        if len(random_centroids) == self.k:\n",
    "            random_centroids = list(random_centroids)\n",
    "            data_points = list()\n",
    "            for i in range(len(random_centroids)):\n",
    "                centroid = self.data[random_centroids[i]]\n",
    "                centroid[-1] = i  # Assign cluster label\n",
    "                data_points.append(centroid)\n",
    "            return data_points\n",
    "        else:\n",
    "            # Perform recursion until different centroids found\n",
    "            self.__get_first_centroids()\n",
    "        \n",
    "    def __get_centroids(self):\n",
    "        \n",
    "        centroids = list()\n",
    "        \n",
    "        for i in range(self.k):\n",
    "            # get each section of self.data with the cluster tag\n",
    "            cluster = [row for row in self.data if row[-1] == i]\n",
    "            # get the mean of the data\n",
    "            cluster_mean = self.__get_cluster_mean(cluster)\n",
    "            # Add to 2d list\n",
    "            centroids.append(cluster_mean)\n",
    "            \n",
    "        return centroids\n",
    "    \n",
    "    def __get_cluster_mean(self, cluster):\n",
    "        centroid_mean = list()\n",
    "        # Iterate each feature and get its mean\n",
    "        for i in range(len(cluster[0])):\n",
    "            mean = sum([row[i] for row in cluster]) / len(cluster)\n",
    "            centroid_mean.append(mean)\n",
    "            \n",
    "        return centroid_mean\n",
    "            \n",
    "    def __assign_labels(self, centroids):\n",
    "        for row in self.data:\n",
    "            minimum = float('inf')\n",
    "            for centroid in centroids:\n",
    "                temp = euclidean(centroid[:-1], row[:-1])\n",
    "                if temp < minimum:\n",
    "                    minimum = temp\n",
    "                    row[-1] = centroid[-1]"
   ]
  },
  {
   "cell_type": "code",
   "execution_count": 31,
   "metadata": {
    "collapsed": false
   },
   "outputs": [],
   "source": [
    "classifier = KMeans()"
   ]
  },
  {
   "cell_type": "code",
   "execution_count": 32,
   "metadata": {
    "collapsed": false
   },
   "outputs": [],
   "source": [
    "classifier.run(data, 3)"
   ]
  },
  {
   "cell_type": "code",
   "execution_count": 33,
   "metadata": {
    "collapsed": false
   },
   "outputs": [
    {
     "data": {
      "image/png": "[encoded data removed]",
      "text/plain": [
       "<matplotlib.figure.Figure at 0x81f6208>"
      ]
     },
     "metadata": {},
     "output_type": "display_data"
    }
   ],
   "source": [
    "classifier.show()"
   ]
  },
  {
   "cell_type": "code",
   "execution_count": null,
   "metadata": {
    "collapsed": true
   },
   "outputs": [],
   "source": []
  }
 ],
 "metadata": {
  "anaconda-cloud": {},
  "kernelspec": {
   "display_name": "Python [conda root]",
   "language": "python",
   "name": "conda-root-py"
  },
  "language_info": {
   "codemirror_mode": {
    "name": "ipython",
    "version": 3
   },
   "file_extension": ".py",
   "mimetype": "text/x-python",
   "name": "python",
   "nbconvert_exporter": "python",
   "pygments_lexer": "ipython3",
   "version": "3.5.2"
  }
 },
 "nbformat": 4,
 "nbformat_minor": 1
}
